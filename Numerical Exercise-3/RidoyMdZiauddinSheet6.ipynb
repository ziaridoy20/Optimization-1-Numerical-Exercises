{
 "cells": [
  {
   "cell_type": "code",
   "execution_count": null,
   "metadata": {},
   "outputs": [],
   "source": [
    "#########################################\n",
    "### Name : Md Ziauddin Ridoy ############\n",
    "### Matriculation : 220100676 ####################"
   ]
  },
  {
   "cell_type": "code",
   "execution_count": null,
   "metadata": {},
   "outputs": [],
   "source": [
    "'''I couldn`t uderstand the problem properly,From my understanding Minimal trinangulated graphs\n",
    "triangles 2 cornersvalue will be fixed i.e x1, x3 and for x2, there is boundary condition\n",
    "available q|Ω = 1/2 − |x2 − 1/2|...which has minimal surface area to be calculated....'''\n",
    "\n",
    "\n",
    "'''Considering function q which needs to contionus on Ω/bar and linear on each triangle\n",
    "and added to that constructing a function A which is Rn->R that defines the surface area\n",
    "of the graph q'''"
   ]
  },
  {
   "cell_type": "code",
   "execution_count": 2,
   "metadata": {},
   "outputs": [],
   "source": [
    "%matplotlib inline\n",
    "import matplotlib.pylab as plt\n",
    "import numpy as np"
   ]
  },
  {
   "cell_type": "code",
   "execution_count": 8,
   "metadata": {},
   "outputs": [
    {
     "data": {
      "text/plain": [
       "array([0.        , 0.03333333, 0.06666667, 0.1       , 0.13333333,\n",
       "       0.16666667, 0.2       , 0.23333333, 0.26666667, 0.3       ,\n",
       "       0.33333333, 0.36666667, 0.4       , 0.43333333, 0.46666667,\n",
       "       0.5       , 0.53333333, 0.56666667, 0.6       , 0.63333333,\n",
       "       0.66666667, 0.7       , 0.73333333, 0.76666667, 0.8       ,\n",
       "       0.83333333, 0.86666667, 0.9       , 0.93333333, 0.96666667])"
      ]
     },
     "execution_count": 8,
     "metadata": {},
     "output_type": "execute_result"
    }
   ],
   "source": [
    "x1 = np.linspace(0, 1, 30, endpoint=False)   # start, end, num-points\n",
    "x1\n",
    "\n",
    "x3 = np.linspace(0, 1, 30, endpoint=False)\n",
    "x3\n"
   ]
  },
  {
   "cell_type": "code",
   "execution_count": null,
   "metadata": {},
   "outputs": [],
   "source": []
  },
  {
   "cell_type": "code",
   "execution_count": null,
   "metadata": {},
   "outputs": [],
   "source": []
  },
  {
   "cell_type": "code",
   "execution_count": null,
   "metadata": {},
   "outputs": [],
   "source": []
  },
  {
   "cell_type": "code",
   "execution_count": null,
   "metadata": {},
   "outputs": [],
   "source": [
    "def ArmijoLineSearch(f, xk, pk, gfk, phi0, alpha0, rho=0.5, c1=1e-4):\n",
    "   \n",
    "    derphi0 = np.dot(gfk, pk)\n",
    "    phi_a0 = f(xk + alpha0*pk)\n",
    "    \n",
    "    while not phi_a0 <= phi0 + c1*alpha0*derphi0:\n",
    "        alpha0 = alpha0 * rho\n",
    "        phi_a0 = f(xk + alpha0*pk)\n",
    "    \n",
    "    return alpha0, phi_a0"
   ]
  },
  {
   "cell_type": "code",
   "execution_count": null,
   "metadata": {},
   "outputs": [],
   "source": [
    "def GradientDescent(f_grad, init, alpha=10e-3, tol=1e-3, max_iter=100000):\n",
    "     # initialize x, f(x), and f'(x)\n",
    "    xk = init    \n",
    "    fk = f(xk)\n",
    "    gfk = f_grad(xk)\n",
    "    gfk_norm = np.linalg.norm(gfk)\n",
    "  \n",
    "    num_iter = 0\n",
    "    curve_x = [xk]\n",
    "    curve_y = [fk]\n",
    "    print('Initial condition: y = {:.4f}, x = {} \\n'.format(fk, xk))\n",
    "    # take steps\n",
    "    while gfk_norm > tol and num_iter < max_iter:\n",
    "        # determine direction\n",
    "        pk = -gfk\n",
    "      \n",
    "        alpha, fk = ArmijoLineSearch(f, xk, pk, gfk, fk, alpha0=alpha)\n",
    "        xk = xk + alpha * pk\n",
    "        gfk = f_grad(xk)\n",
    "        gfk_norm = np.linalg.norm(gfk)\n",
    "        # increase number of steps by 1, save new x and f(x)\n",
    "        num_iter += 1\n",
    "        curve_x.append(xk)\n",
    "        curve_y.append(fk)\n",
    "        print('Iteration: {} \\t y = {:.4f}, x = {}, gradient = {:.4f}'.\n",
    "              format(num_iter, fk, xk, gfk_norm))\n",
    "    # print results\n",
    "    if num_iter == max_iter:\n",
    "        print('\\nGradient descent does not converge.')\n",
    "    else:\n",
    "        print('\\nSolution: \\t y = {:.4f}, x = {}'.format(fk, xk))\n",
    "    \n",
    "    return np.array(curve_x), np.array(curve_y)"
   ]
  },
  {
   "cell_type": "code",
   "execution_count": null,
   "metadata": {},
   "outputs": [],
   "source": [
    "def SurfaceArea():\n",
    "   "
   ]
  },
  {
   "cell_type": "code",
   "execution_count": null,
   "metadata": {},
   "outputs": [],
   "source": []
  },
  {
   "cell_type": "code",
   "execution_count": null,
   "metadata": {},
   "outputs": [],
   "source": []
  },
  {
   "cell_type": "code",
   "execution_count": null,
   "metadata": {},
   "outputs": [],
   "source": []
  },
  {
   "cell_type": "code",
   "execution_count": null,
   "metadata": {},
   "outputs": [],
   "source": []
  }
 ],
 "metadata": {
  "kernelspec": {
   "display_name": "Python 3",
   "language": "python",
   "name": "python3"
  },
  "language_info": {
   "codemirror_mode": {
    "name": "ipython",
    "version": 3
   },
   "file_extension": ".py",
   "mimetype": "text/x-python",
   "name": "python",
   "nbconvert_exporter": "python",
   "pygments_lexer": "ipython3",
   "version": "3.8.5"
  }
 },
 "nbformat": 4,
 "nbformat_minor": 4
}
