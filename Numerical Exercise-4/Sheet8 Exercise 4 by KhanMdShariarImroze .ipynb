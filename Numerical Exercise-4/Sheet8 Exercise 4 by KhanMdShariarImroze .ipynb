{
 "cells": [
  {
   "cell_type": "code",
   "execution_count": 1,
   "metadata": {},
   "outputs": [],
   "source": [
    "#Numerical Exercise 4\n",
    "#Md Shariar Imroze Khan\n",
    "#Matriculation Number: 220202354\n",
    "\n",
    "import numpy as np\n",
    "import math\n",
    "from sympy import *\n",
    "import random"
   ]
  },
  {
   "cell_type": "code",
   "execution_count": 2,
   "metadata": {},
   "outputs": [
    {
     "name": "stdout",
     "output_type": "stream",
     "text": [
      "0 0\n",
      "1  0.999999999000000\n",
      "2  1.99999999628172\n",
      "3  2.99999998889266\n",
      "4  3.99999996880713\n",
      "5  4.99999991420898\n",
      "6  5.99999976579583\n",
      "7  6.99999936236713\n",
      "8  7.99999826573467\n",
      "9  8.99999528478185\n",
      "10  9.99998718173613\n",
      "11  10.9999651555527\n",
      "12  11.9999052834972\n",
      "13  12.9997425441206\n",
      "14  13.9993002446159\n",
      "15  14.9980984815662\n",
      "16  15.9948356743842\n",
      "17  16.9859953363382\n",
      "18  17.9621763078303\n",
      "19  18.8989534601427\n",
      "20  19.7376249208985\n",
      "21  20.3644249604722\n",
      "22  20.6659394724895\n",
      "23  20.7216536347528\n",
      "24  20.7232645380466\n",
      "25  20.7232658369456\n"
     ]
    }
   ],
   "source": [
    "########################### (a) ###########################\n",
    "def newton(f, df, x0, ea, er, N=50):\n",
    "\n",
    "    def g(x):\n",
    "        return x - f(x)/df(x)\n",
    "    \n",
    "    def g0(x_0):\n",
    "        return x0-f(x0)/df(x0)\n",
    "\n",
    "    approx = [x0]\n",
    "    \n",
    "    n = 0\n",
    "    ea = 10**-3\n",
    "    er = 10**-10\n",
    "    \n",
    "    while n < 50:\n",
    "        # Calculate p[n+1]\n",
    "        approx.append(g(approx[n]))\n",
    "\n",
    "        # Check for convergence\n",
    "        \n",
    "        #if abs(approx[n]) < ea:                              #Condition 1\n",
    "        #if abs(approx[n]) < er*abs(approx[0])+ea:            #condition 2\n",
    "        #if abs(approx[n+1] - approx[n]) < ea :               #Condition 3\n",
    "        if abs(approx[n+1]-approx[n]) < er*abs(approx[0])+ea: #condition 4\n",
    "            return approx\n",
    "        n = n + 1\n",
    "\n",
    "\n",
    "def f(x):\n",
    "    return exp(-x)-10**(-9)\n",
    "\n",
    "\n",
    "def df(x):\n",
    "    return -exp(-x)\n",
    "\n",
    "# Start Newton's method\n",
    "approx = newton(f,df,0,10**-3,10**-10)\n",
    "\n",
    "for i in range(0,len(approx)):\n",
    "    if approx[i] > 0:\n",
    "        print(f\"{i}  {approx[i]}\")\n",
    "    else:\n",
    "        print(f\"{i} {approx[i]}\")"
   ]
  },
  {
   "cell_type": "code",
   "execution_count": 3,
   "metadata": {},
   "outputs": [],
   "source": [
    "############################ (b) ################################\n",
    "def f(X):\n",
    "    x, y = X\n",
    "    return (x-1)**4 + 2*(x-1)**2*(y-1)**2+(y+1)**4-2*(y-1)**2-(2*y+1)**2+1\n",
    "\n",
    "def f_grad(X):\n",
    "    x, y = X\n",
    "    return [4*(x-1)*((x-1)**2+(y-1)**2),\n",
    "            4*((x**2)*(y-1)-2*x*(y-1)+y*(y**2+3*y+1))]\n",
    "\n",
    "def f_hess(X):\n",
    "    x, y = X\n",
    "    return [[12*(x-1)**2+4*(y-1)**2, 8*(x-1)*(y-1)],\n",
    "        [8*(x-1)*(y-1), 4*(x-1)**2+12*(y+1)**2-12]]"
   ]
  },
  {
   "cell_type": "code",
   "execution_count": 4,
   "metadata": {},
   "outputs": [],
   "source": [
    "def newton(x_init, epsilon=1e-4, er=10**-10, max_iterations=100):\n",
    "    x = x_init\n",
    "    prev_x = np.zeros(2)\n",
    "    for i in range(max_iterations):\n",
    "        x = x - np.linalg.solve(np.array(f_hess(x)), np.array(f_grad(x)))\n",
    "        \n",
    "        #Conditions\n",
    "        #if np.linalg.norm((f_grad(prev_x),f_grad(x)),ord=np.inf) < epsilon:\n",
    "        if (np.linalg.norm((f_grad(prev_x),f_grad(x)),ord=np.inf)) < er*np.linalg.norm(g_x0)+epsilon:\n",
    "            return x, i + 1\n",
    "        prev_x=x\n",
    "        print(x,'-iterations: ', i+1)\n",
    "    return x, max_iterations"
   ]
  },
  {
   "cell_type": "code",
   "execution_count": 5,
   "metadata": {},
   "outputs": [],
   "source": [
    "x_init = np.array([1.21,-1.15])"
   ]
  },
  {
   "cell_type": "code",
   "execution_count": 6,
   "metadata": {},
   "outputs": [],
   "source": [
    "g_x0 = f_grad(x_init)\n",
    "h_x0 = f_hess(x_init)"
   ]
  },
  {
   "cell_type": "code",
   "execution_count": 7,
   "metadata": {},
   "outputs": [
    {
     "name": "stdout",
     "output_type": "stream",
     "text": [
      "[1.22347794 0.0062247 ] -iterations:  1\n",
      "[ 5.74413364 12.10449565] -iterations:  2\n",
      "[4.53149904 7.73513692] -iterations:  3\n",
      "[3.72503909 4.84502883] -iterations:  4\n",
      "[3.15949736 2.95707653] -iterations:  5\n",
      "[2.69901629 1.75793293] -iterations:  6\n",
      "[2.26836071 1.01879421] -iterations:  7\n",
      "[1.85023558 0.54058313] -iterations:  8\n",
      "[1.37603724 0.11254893] -iterations:  9\n",
      "[-0.16325096 -2.15878114] -iterations:  10\n",
      "[-1.91947523  2.98941097] -iterations:  11\n",
      "[-1.14706992  1.81596466] -iterations:  12\n",
      "[-0.54191668  1.086685  ] -iterations:  13\n",
      "[-0.04461626  0.61249457] -iterations:  14\n",
      "[0.42701068 0.21970153] -iterations:  15\n",
      "[ 1.2862043  -0.71118192] -iterations:  16\n",
      "[1.25202334 0.05758623] -iterations:  17\n",
      "[-1.18666097 -4.97534666] -iterations:  18\n",
      "[ 0.13794453 -4.12450733] -iterations:  19\n",
      "[ 0.76711646 -3.51856926] -iterations:  20\n",
      "[ 0.96540618 -3.19229074] -iterations:  21\n",
      "[ 0.99861546 -3.10866569] -iterations:  22\n",
      "[ 0.99999673 -3.10381862] -iterations:  23\n",
      "[ 1.        -3.1038034] -iterations:  24\n",
      "Extremum at, x* = [ 1.        -3.1038034]\n",
      "Value of Extremum, f(x*) = -40.21219689670468\n",
      "Iterations = 25\n"
     ]
    }
   ],
   "source": [
    "x_min, it = newton(x_init)\n",
    "print('Extremum at, x* =', x_min)\n",
    "print('Value of Extremum, f(x*) =', f(x_min))\n",
    "print('Iterations =', it)"
   ]
  }
 ],
 "metadata": {
  "kernelspec": {
   "display_name": "Python 3",
   "language": "python",
   "name": "python3"
  },
  "language_info": {
   "codemirror_mode": {
    "name": "ipython",
    "version": 3
   },
   "file_extension": ".py",
   "mimetype": "text/x-python",
   "name": "python",
   "nbconvert_exporter": "python",
   "pygments_lexer": "ipython3",
   "version": "3.8.5"
  }
 },
 "nbformat": 4,
 "nbformat_minor": 5
}
